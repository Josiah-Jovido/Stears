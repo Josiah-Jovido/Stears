{
 "cells": [
  {
   "cell_type": "markdown",
   "id": "2eab57d7",
   "metadata": {},
   "source": [
    "![image](https://i.im.ge/2022/06/12/rHNFzJ.png)"
   ]
  },
  {
   "cell_type": "markdown",
   "id": "5b8d7347",
   "metadata": {},
   "source": [
    "## Email Analysis Report"
   ]
  },
  {
   "cell_type": "code",
   "execution_count": 1,
   "id": "0dfe314f",
   "metadata": {},
   "outputs": [],
   "source": [
    "# import dependencies\n",
    "import pandas as pd\n",
    "import matplotlib.pyplot as plt\n",
    "import seaborn as sns\n",
    "import numpy as np\n",
    "plt.style.use('ggplot')\n",
    "#plt.style.use('seaborn-white')"
   ]
  },
  {
   "cell_type": "code",
   "execution_count": 2,
   "id": "93d861ae",
   "metadata": {},
   "outputs": [
    {
     "data": {
      "text/html": [
       "<div>\n",
       "<style scoped>\n",
       "    .dataframe tbody tr th:only-of-type {\n",
       "        vertical-align: middle;\n",
       "    }\n",
       "\n",
       "    .dataframe tbody tr th {\n",
       "        vertical-align: top;\n",
       "    }\n",
       "\n",
       "    .dataframe thead th {\n",
       "        text-align: right;\n",
       "    }\n",
       "</style>\n",
       "<table border=\"1\" class=\"dataframe\">\n",
       "  <thead>\n",
       "    <tr style=\"text-align: right;\">\n",
       "      <th></th>\n",
       "      <th>Action</th>\n",
       "      <th>Type</th>\n",
       "      <th>List ID</th>\n",
       "      <th>Email ID</th>\n",
       "      <th>Timestamp</th>\n",
       "      <th>Campaign ID</th>\n",
       "      <th>List Is Active</th>\n",
       "    </tr>\n",
       "  </thead>\n",
       "  <tbody>\n",
       "    <tr>\n",
       "      <th>0</th>\n",
       "      <td>open</td>\n",
       "      <td>NaN</td>\n",
       "      <td>6e3e8bfca7</td>\n",
       "      <td>a57a96c819cee01fab886ab859727fdf</td>\n",
       "      <td>2022-06-17 15:34:52+00:00</td>\n",
       "      <td>20c6a158b5</td>\n",
       "      <td>True</td>\n",
       "    </tr>\n",
       "    <tr>\n",
       "      <th>1</th>\n",
       "      <td>open</td>\n",
       "      <td>NaN</td>\n",
       "      <td>6e3e8bfca7</td>\n",
       "      <td>b947ffc31e5610817471637840bd8b50</td>\n",
       "      <td>2022-06-17 15:34:27+00:00</td>\n",
       "      <td>20c6a158b5</td>\n",
       "      <td>True</td>\n",
       "    </tr>\n",
       "    <tr>\n",
       "      <th>2</th>\n",
       "      <td>click</td>\n",
       "      <td>NaN</td>\n",
       "      <td>577e7bb830</td>\n",
       "      <td>ce1453a98b35b1f871a6c518323f6a69</td>\n",
       "      <td>2022-06-17 15:34:20+00:00</td>\n",
       "      <td>8f3d41ed77</td>\n",
       "      <td>True</td>\n",
       "    </tr>\n",
       "    <tr>\n",
       "      <th>3</th>\n",
       "      <td>open</td>\n",
       "      <td>NaN</td>\n",
       "      <td>577e7bb830</td>\n",
       "      <td>302b5aed88823e12e820bf9162256180</td>\n",
       "      <td>2022-06-17 15:33:46+00:00</td>\n",
       "      <td>f4f07b6d2d</td>\n",
       "      <td>True</td>\n",
       "    </tr>\n",
       "    <tr>\n",
       "      <th>4</th>\n",
       "      <td>open</td>\n",
       "      <td>NaN</td>\n",
       "      <td>577e7bb830</td>\n",
       "      <td>ce1453a98b35b1f871a6c518323f6a69</td>\n",
       "      <td>2022-06-17 15:33:39+00:00</td>\n",
       "      <td>8f3d41ed77</td>\n",
       "      <td>True</td>\n",
       "    </tr>\n",
       "  </tbody>\n",
       "</table>\n",
       "</div>"
      ],
      "text/plain": [
       "  Action Type     List ID                          Email ID  \\\n",
       "0   open  NaN  6e3e8bfca7  a57a96c819cee01fab886ab859727fdf   \n",
       "1   open  NaN  6e3e8bfca7  b947ffc31e5610817471637840bd8b50   \n",
       "2  click  NaN  577e7bb830  ce1453a98b35b1f871a6c518323f6a69   \n",
       "3   open  NaN  577e7bb830  302b5aed88823e12e820bf9162256180   \n",
       "4   open  NaN  577e7bb830  ce1453a98b35b1f871a6c518323f6a69   \n",
       "\n",
       "                  Timestamp Campaign ID  List Is Active  \n",
       "0 2022-06-17 15:34:52+00:00  20c6a158b5            True  \n",
       "1 2022-06-17 15:34:27+00:00  20c6a158b5            True  \n",
       "2 2022-06-17 15:34:20+00:00  8f3d41ed77            True  \n",
       "3 2022-06-17 15:33:46+00:00  f4f07b6d2d            True  \n",
       "4 2022-06-17 15:33:39+00:00  8f3d41ed77            True  "
      ]
     },
     "execution_count": 2,
     "metadata": {},
     "output_type": "execute_result"
    }
   ],
   "source": [
    "df = pd.read_csv('mailchimp_email_events.csv', parse_dates=['Timestamp'])\n",
    "df.head()"
   ]
  },
  {
   "cell_type": "markdown",
   "id": "3b8178e6",
   "metadata": {},
   "source": [
    "### Exploratory Data Analysis"
   ]
  },
  {
   "cell_type": "code",
   "execution_count": 3,
   "id": "417aaea6",
   "metadata": {},
   "outputs": [
    {
     "data": {
      "text/plain": [
       "Action                         object\n",
       "Type                           object\n",
       "List ID                        object\n",
       "Email ID                       object\n",
       "Timestamp         datetime64[ns, UTC]\n",
       "Campaign ID                    object\n",
       "List Is Active                   bool\n",
       "dtype: object"
      ]
     },
     "execution_count": 3,
     "metadata": {},
     "output_type": "execute_result"
    }
   ],
   "source": [
    "df.dtypes"
   ]
  },
  {
   "cell_type": "code",
   "execution_count": 4,
   "id": "b0a07d04",
   "metadata": {},
   "outputs": [
    {
     "name": "stdout",
     "output_type": "stream",
     "text": [
      "<class 'pandas.core.frame.DataFrame'>\n",
      "RangeIndex: 112537 entries, 0 to 112536\n",
      "Data columns (total 7 columns):\n",
      " #   Column          Non-Null Count   Dtype              \n",
      "---  ------          --------------   -----              \n",
      " 0   Action          112537 non-null  object             \n",
      " 1   Type            183 non-null     object             \n",
      " 2   List ID         112537 non-null  object             \n",
      " 3   Email ID        112537 non-null  object             \n",
      " 4   Timestamp       112537 non-null  datetime64[ns, UTC]\n",
      " 5   Campaign ID     112537 non-null  object             \n",
      " 6   List Is Active  112537 non-null  bool               \n",
      "dtypes: bool(1), datetime64[ns, UTC](1), object(5)\n",
      "memory usage: 5.3+ MB\n"
     ]
    }
   ],
   "source": [
    "df.info()"
   ]
  },
  {
   "cell_type": "code",
   "execution_count": 5,
   "id": "ab91c9d6",
   "metadata": {},
   "outputs": [
    {
     "data": {
      "text/plain": [
       "(112537, 7)"
      ]
     },
     "execution_count": 5,
     "metadata": {},
     "output_type": "execute_result"
    }
   ],
   "source": [
    "df.shape"
   ]
  },
  {
   "cell_type": "code",
   "execution_count": 6,
   "id": "e0898852",
   "metadata": {},
   "outputs": [
    {
     "data": {
      "text/plain": [
       "Action                 0\n",
       "Type              112354\n",
       "List ID                0\n",
       "Email ID               0\n",
       "Timestamp              0\n",
       "Campaign ID            0\n",
       "List Is Active         0\n",
       "dtype: int64"
      ]
     },
     "execution_count": 6,
     "metadata": {},
     "output_type": "execute_result"
    }
   ],
   "source": [
    "# check for missing values\n",
    "df.isnull().sum()"
   ]
  },
  {
   "cell_type": "code",
   "execution_count": 7,
   "id": "5052ce02",
   "metadata": {},
   "outputs": [
    {
     "data": {
      "text/plain": [
       "soft    134\n",
       "hard     49\n",
       "Name: Type, dtype: int64"
      ]
     },
     "execution_count": 7,
     "metadata": {},
     "output_type": "execute_result"
    }
   ],
   "source": [
    "df['Type'].value_counts()"
   ]
  },
  {
   "cell_type": "code",
   "execution_count": 8,
   "id": "db6c5aa4",
   "metadata": {},
   "outputs": [
    {
     "data": {
      "text/plain": [
       "open      105121\n",
       "click       7233\n",
       "bounce       183\n",
       "Name: Action, dtype: int64"
      ]
     },
     "execution_count": 8,
     "metadata": {},
     "output_type": "execute_result"
    }
   ],
   "source": [
    "df['Action'].value_counts()"
   ]
  },
  {
   "cell_type": "markdown",
   "id": "268f368c",
   "metadata": {},
   "source": [
    "### Data Analysis"
   ]
  },
  {
   "cell_type": "code",
   "execution_count": 9,
   "id": "ea6b8c32",
   "metadata": {},
   "outputs": [],
   "source": [
    "data = df[['Action', 'Timestamp']]"
   ]
  },
  {
   "cell_type": "code",
   "execution_count": 10,
   "id": "0b71ab58",
   "metadata": {},
   "outputs": [
    {
     "data": {
      "text/html": [
       "<div>\n",
       "<style scoped>\n",
       "    .dataframe tbody tr th:only-of-type {\n",
       "        vertical-align: middle;\n",
       "    }\n",
       "\n",
       "    .dataframe tbody tr th {\n",
       "        vertical-align: top;\n",
       "    }\n",
       "\n",
       "    .dataframe thead th {\n",
       "        text-align: right;\n",
       "    }\n",
       "</style>\n",
       "<table border=\"1\" class=\"dataframe\">\n",
       "  <thead>\n",
       "    <tr style=\"text-align: right;\">\n",
       "      <th></th>\n",
       "      <th>Action</th>\n",
       "      <th>Timestamp</th>\n",
       "    </tr>\n",
       "  </thead>\n",
       "  <tbody>\n",
       "    <tr>\n",
       "      <th>0</th>\n",
       "      <td>open</td>\n",
       "      <td>2022-06-17 15:34:52+00:00</td>\n",
       "    </tr>\n",
       "    <tr>\n",
       "      <th>1</th>\n",
       "      <td>open</td>\n",
       "      <td>2022-06-17 15:34:27+00:00</td>\n",
       "    </tr>\n",
       "    <tr>\n",
       "      <th>2</th>\n",
       "      <td>click</td>\n",
       "      <td>2022-06-17 15:34:20+00:00</td>\n",
       "    </tr>\n",
       "    <tr>\n",
       "      <th>3</th>\n",
       "      <td>open</td>\n",
       "      <td>2022-06-17 15:33:46+00:00</td>\n",
       "    </tr>\n",
       "    <tr>\n",
       "      <th>4</th>\n",
       "      <td>open</td>\n",
       "      <td>2022-06-17 15:33:39+00:00</td>\n",
       "    </tr>\n",
       "  </tbody>\n",
       "</table>\n",
       "</div>"
      ],
      "text/plain": [
       "  Action                 Timestamp\n",
       "0   open 2022-06-17 15:34:52+00:00\n",
       "1   open 2022-06-17 15:34:27+00:00\n",
       "2  click 2022-06-17 15:34:20+00:00\n",
       "3   open 2022-06-17 15:33:46+00:00\n",
       "4   open 2022-06-17 15:33:39+00:00"
      ]
     },
     "execution_count": 10,
     "metadata": {},
     "output_type": "execute_result"
    }
   ],
   "source": [
    "data.head()"
   ]
  },
  {
   "cell_type": "code",
   "execution_count": 11,
   "id": "0db5c7a1",
   "metadata": {},
   "outputs": [
    {
     "data": {
      "text/plain": [
       "Action                    object\n",
       "Timestamp    datetime64[ns, UTC]\n",
       "dtype: object"
      ]
     },
     "execution_count": 11,
     "metadata": {},
     "output_type": "execute_result"
    }
   ],
   "source": [
    "data.dtypes"
   ]
  },
  {
   "cell_type": "markdown",
   "id": "27db33a9",
   "metadata": {},
   "source": [
    "##### Extracting Day and Month name from Date Field"
   ]
  },
  {
   "cell_type": "code",
   "execution_count": 12,
   "id": "3fb4048c",
   "metadata": {},
   "outputs": [
    {
     "name": "stderr",
     "output_type": "stream",
     "text": [
      "<ipython-input-12-e19e0c6eec9e>:1: SettingWithCopyWarning: \n",
      "A value is trying to be set on a copy of a slice from a DataFrame.\n",
      "Try using .loc[row_indexer,col_indexer] = value instead\n",
      "\n",
      "See the caveats in the documentation: https://pandas.pydata.org/pandas-docs/stable/user_guide/indexing.html#returning-a-view-versus-a-copy\n",
      "  data[\"Week_day\"]=data[\"Timestamp\"].dt.day_name()\n",
      "<ipython-input-12-e19e0c6eec9e>:2: SettingWithCopyWarning: \n",
      "A value is trying to be set on a copy of a slice from a DataFrame.\n",
      "Try using .loc[row_indexer,col_indexer] = value instead\n",
      "\n",
      "See the caveats in the documentation: https://pandas.pydata.org/pandas-docs/stable/user_guide/indexing.html#returning-a-view-versus-a-copy\n",
      "  data[\"Month\"]=data[\"Timestamp\"].dt.month_name()\n"
     ]
    }
   ],
   "source": [
    "data[\"Week_day\"]=data[\"Timestamp\"].dt.day_name()\n",
    "data[\"Month\"]=data[\"Timestamp\"].dt.month_name()"
   ]
  },
  {
   "cell_type": "code",
   "execution_count": 13,
   "id": "16821dd9",
   "metadata": {},
   "outputs": [
    {
     "data": {
      "text/html": [
       "<div>\n",
       "<style scoped>\n",
       "    .dataframe tbody tr th:only-of-type {\n",
       "        vertical-align: middle;\n",
       "    }\n",
       "\n",
       "    .dataframe tbody tr th {\n",
       "        vertical-align: top;\n",
       "    }\n",
       "\n",
       "    .dataframe thead th {\n",
       "        text-align: right;\n",
       "    }\n",
       "</style>\n",
       "<table border=\"1\" class=\"dataframe\">\n",
       "  <thead>\n",
       "    <tr style=\"text-align: right;\">\n",
       "      <th></th>\n",
       "      <th>Action</th>\n",
       "      <th>Timestamp</th>\n",
       "      <th>Week_day</th>\n",
       "      <th>Month</th>\n",
       "    </tr>\n",
       "  </thead>\n",
       "  <tbody>\n",
       "    <tr>\n",
       "      <th>0</th>\n",
       "      <td>open</td>\n",
       "      <td>2022-06-17 15:34:52+00:00</td>\n",
       "      <td>Friday</td>\n",
       "      <td>June</td>\n",
       "    </tr>\n",
       "    <tr>\n",
       "      <th>1</th>\n",
       "      <td>open</td>\n",
       "      <td>2022-06-17 15:34:27+00:00</td>\n",
       "      <td>Friday</td>\n",
       "      <td>June</td>\n",
       "    </tr>\n",
       "    <tr>\n",
       "      <th>2</th>\n",
       "      <td>click</td>\n",
       "      <td>2022-06-17 15:34:20+00:00</td>\n",
       "      <td>Friday</td>\n",
       "      <td>June</td>\n",
       "    </tr>\n",
       "    <tr>\n",
       "      <th>3</th>\n",
       "      <td>open</td>\n",
       "      <td>2022-06-17 15:33:46+00:00</td>\n",
       "      <td>Friday</td>\n",
       "      <td>June</td>\n",
       "    </tr>\n",
       "    <tr>\n",
       "      <th>4</th>\n",
       "      <td>open</td>\n",
       "      <td>2022-06-17 15:33:39+00:00</td>\n",
       "      <td>Friday</td>\n",
       "      <td>June</td>\n",
       "    </tr>\n",
       "  </tbody>\n",
       "</table>\n",
       "</div>"
      ],
      "text/plain": [
       "  Action                 Timestamp Week_day Month\n",
       "0   open 2022-06-17 15:34:52+00:00   Friday  June\n",
       "1   open 2022-06-17 15:34:27+00:00   Friday  June\n",
       "2  click 2022-06-17 15:34:20+00:00   Friday  June\n",
       "3   open 2022-06-17 15:33:46+00:00   Friday  June\n",
       "4   open 2022-06-17 15:33:39+00:00   Friday  June"
      ]
     },
     "execution_count": 13,
     "metadata": {},
     "output_type": "execute_result"
    }
   ],
   "source": [
    "data.head()"
   ]
  },
  {
   "cell_type": "code",
   "execution_count": 14,
   "id": "867a311a",
   "metadata": {},
   "outputs": [
    {
     "name": "stderr",
     "output_type": "stream",
     "text": [
      "<ipython-input-14-5936dd29d09e>:2: SettingWithCopyWarning: \n",
      "A value is trying to be set on a copy of a slice from a DataFrame.\n",
      "Try using .loc[row_indexer,col_indexer] = value instead\n",
      "\n",
      "See the caveats in the documentation: https://pandas.pydata.org/pandas-docs/stable/user_guide/indexing.html#returning-a-view-versus-a-copy\n",
      "  data['Timestamp'] = pd.to_datetime(data['Timestamp']).dt.date\n"
     ]
    }
   ],
   "source": [
    "#Remove time and leave just date\n",
    "data['Timestamp'] = pd.to_datetime(data['Timestamp']).dt.date"
   ]
  },
  {
   "cell_type": "code",
   "execution_count": 15,
   "id": "2125b55d",
   "metadata": {},
   "outputs": [
    {
     "data": {
      "text/html": [
       "<div>\n",
       "<style scoped>\n",
       "    .dataframe tbody tr th:only-of-type {\n",
       "        vertical-align: middle;\n",
       "    }\n",
       "\n",
       "    .dataframe tbody tr th {\n",
       "        vertical-align: top;\n",
       "    }\n",
       "\n",
       "    .dataframe thead th {\n",
       "        text-align: right;\n",
       "    }\n",
       "</style>\n",
       "<table border=\"1\" class=\"dataframe\">\n",
       "  <thead>\n",
       "    <tr style=\"text-align: right;\">\n",
       "      <th></th>\n",
       "      <th>Action</th>\n",
       "      <th>Timestamp</th>\n",
       "      <th>Week_day</th>\n",
       "      <th>Month</th>\n",
       "    </tr>\n",
       "  </thead>\n",
       "  <tbody>\n",
       "    <tr>\n",
       "      <th>0</th>\n",
       "      <td>open</td>\n",
       "      <td>2022-06-17</td>\n",
       "      <td>Friday</td>\n",
       "      <td>June</td>\n",
       "    </tr>\n",
       "    <tr>\n",
       "      <th>1</th>\n",
       "      <td>open</td>\n",
       "      <td>2022-06-17</td>\n",
       "      <td>Friday</td>\n",
       "      <td>June</td>\n",
       "    </tr>\n",
       "    <tr>\n",
       "      <th>2</th>\n",
       "      <td>click</td>\n",
       "      <td>2022-06-17</td>\n",
       "      <td>Friday</td>\n",
       "      <td>June</td>\n",
       "    </tr>\n",
       "    <tr>\n",
       "      <th>3</th>\n",
       "      <td>open</td>\n",
       "      <td>2022-06-17</td>\n",
       "      <td>Friday</td>\n",
       "      <td>June</td>\n",
       "    </tr>\n",
       "    <tr>\n",
       "      <th>4</th>\n",
       "      <td>open</td>\n",
       "      <td>2022-06-17</td>\n",
       "      <td>Friday</td>\n",
       "      <td>June</td>\n",
       "    </tr>\n",
       "  </tbody>\n",
       "</table>\n",
       "</div>"
      ],
      "text/plain": [
       "  Action   Timestamp Week_day Month\n",
       "0   open  2022-06-17   Friday  June\n",
       "1   open  2022-06-17   Friday  June\n",
       "2  click  2022-06-17   Friday  June\n",
       "3   open  2022-06-17   Friday  June\n",
       "4   open  2022-06-17   Friday  June"
      ]
     },
     "execution_count": 15,
     "metadata": {},
     "output_type": "execute_result"
    }
   ],
   "source": [
    "data.head()"
   ]
  },
  {
   "cell_type": "code",
   "execution_count": 16,
   "id": "3cb9a7c9",
   "metadata": {},
   "outputs": [],
   "source": [
    "newdata = data.groupby(['Timestamp', 'Week_day', 'Month', 'Action']).size().reset_index()"
   ]
  },
  {
   "cell_type": "code",
   "execution_count": 17,
   "id": "c06d0f19",
   "metadata": {},
   "outputs": [
    {
     "data": {
      "text/html": [
       "<div>\n",
       "<style scoped>\n",
       "    .dataframe tbody tr th:only-of-type {\n",
       "        vertical-align: middle;\n",
       "    }\n",
       "\n",
       "    .dataframe tbody tr th {\n",
       "        vertical-align: top;\n",
       "    }\n",
       "\n",
       "    .dataframe thead th {\n",
       "        text-align: right;\n",
       "    }\n",
       "</style>\n",
       "<table border=\"1\" class=\"dataframe\">\n",
       "  <thead>\n",
       "    <tr style=\"text-align: right;\">\n",
       "      <th></th>\n",
       "      <th>Timestamp</th>\n",
       "      <th>Week_day</th>\n",
       "      <th>Month</th>\n",
       "      <th>Action</th>\n",
       "      <th>0</th>\n",
       "    </tr>\n",
       "  </thead>\n",
       "  <tbody>\n",
       "    <tr>\n",
       "      <th>0</th>\n",
       "      <td>2021-01-01</td>\n",
       "      <td>Friday</td>\n",
       "      <td>January</td>\n",
       "      <td>click</td>\n",
       "      <td>1</td>\n",
       "    </tr>\n",
       "    <tr>\n",
       "      <th>1</th>\n",
       "      <td>2021-01-01</td>\n",
       "      <td>Friday</td>\n",
       "      <td>January</td>\n",
       "      <td>open</td>\n",
       "      <td>32</td>\n",
       "    </tr>\n",
       "    <tr>\n",
       "      <th>2</th>\n",
       "      <td>2021-01-02</td>\n",
       "      <td>Saturday</td>\n",
       "      <td>January</td>\n",
       "      <td>click</td>\n",
       "      <td>7</td>\n",
       "    </tr>\n",
       "    <tr>\n",
       "      <th>3</th>\n",
       "      <td>2021-01-02</td>\n",
       "      <td>Saturday</td>\n",
       "      <td>January</td>\n",
       "      <td>open</td>\n",
       "      <td>128</td>\n",
       "    </tr>\n",
       "    <tr>\n",
       "      <th>4</th>\n",
       "      <td>2021-01-03</td>\n",
       "      <td>Sunday</td>\n",
       "      <td>January</td>\n",
       "      <td>click</td>\n",
       "      <td>9</td>\n",
       "    </tr>\n",
       "  </tbody>\n",
       "</table>\n",
       "</div>"
      ],
      "text/plain": [
       "    Timestamp  Week_day    Month Action    0\n",
       "0  2021-01-01    Friday  January  click    1\n",
       "1  2021-01-01    Friday  January   open   32\n",
       "2  2021-01-02  Saturday  January  click    7\n",
       "3  2021-01-02  Saturday  January   open  128\n",
       "4  2021-01-03    Sunday  January  click    9"
      ]
     },
     "execution_count": 17,
     "metadata": {},
     "output_type": "execute_result"
    }
   ],
   "source": [
    "newdata.head()"
   ]
  },
  {
   "cell_type": "code",
   "execution_count": 18,
   "id": "f165bf9d",
   "metadata": {},
   "outputs": [],
   "source": [
    "newdata.rename(columns={0: 'count'}, inplace=True)"
   ]
  },
  {
   "cell_type": "code",
   "execution_count": 19,
   "id": "b897f0be",
   "metadata": {},
   "outputs": [
    {
     "data": {
      "text/html": [
       "<div>\n",
       "<style scoped>\n",
       "    .dataframe tbody tr th:only-of-type {\n",
       "        vertical-align: middle;\n",
       "    }\n",
       "\n",
       "    .dataframe tbody tr th {\n",
       "        vertical-align: top;\n",
       "    }\n",
       "\n",
       "    .dataframe thead th {\n",
       "        text-align: right;\n",
       "    }\n",
       "</style>\n",
       "<table border=\"1\" class=\"dataframe\">\n",
       "  <thead>\n",
       "    <tr style=\"text-align: right;\">\n",
       "      <th></th>\n",
       "      <th>Timestamp</th>\n",
       "      <th>Week_day</th>\n",
       "      <th>Month</th>\n",
       "      <th>Action</th>\n",
       "      <th>count</th>\n",
       "    </tr>\n",
       "  </thead>\n",
       "  <tbody>\n",
       "    <tr>\n",
       "      <th>0</th>\n",
       "      <td>2021-01-01</td>\n",
       "      <td>Friday</td>\n",
       "      <td>January</td>\n",
       "      <td>click</td>\n",
       "      <td>1</td>\n",
       "    </tr>\n",
       "    <tr>\n",
       "      <th>1</th>\n",
       "      <td>2021-01-01</td>\n",
       "      <td>Friday</td>\n",
       "      <td>January</td>\n",
       "      <td>open</td>\n",
       "      <td>32</td>\n",
       "    </tr>\n",
       "    <tr>\n",
       "      <th>2</th>\n",
       "      <td>2021-01-02</td>\n",
       "      <td>Saturday</td>\n",
       "      <td>January</td>\n",
       "      <td>click</td>\n",
       "      <td>7</td>\n",
       "    </tr>\n",
       "    <tr>\n",
       "      <th>3</th>\n",
       "      <td>2021-01-02</td>\n",
       "      <td>Saturday</td>\n",
       "      <td>January</td>\n",
       "      <td>open</td>\n",
       "      <td>128</td>\n",
       "    </tr>\n",
       "    <tr>\n",
       "      <th>4</th>\n",
       "      <td>2021-01-03</td>\n",
       "      <td>Sunday</td>\n",
       "      <td>January</td>\n",
       "      <td>click</td>\n",
       "      <td>9</td>\n",
       "    </tr>\n",
       "  </tbody>\n",
       "</table>\n",
       "</div>"
      ],
      "text/plain": [
       "    Timestamp  Week_day    Month Action  count\n",
       "0  2021-01-01    Friday  January  click      1\n",
       "1  2021-01-01    Friday  January   open     32\n",
       "2  2021-01-02  Saturday  January  click      7\n",
       "3  2021-01-02  Saturday  January   open    128\n",
       "4  2021-01-03    Sunday  January  click      9"
      ]
     },
     "execution_count": 19,
     "metadata": {},
     "output_type": "execute_result"
    }
   ],
   "source": [
    "newdata.head()"
   ]
  },
  {
   "cell_type": "markdown",
   "id": "d2c9523a",
   "metadata": {},
   "source": [
    "##### Defining function for Bar Plot"
   ]
  },
  {
   "cell_type": "code",
   "execution_count": 20,
   "id": "c8d4b700",
   "metadata": {},
   "outputs": [],
   "source": [
    "def plot_barPlot(data,x,y,title,xlabel,ylabel):\n",
    "    '''Plots bar plot'''\n",
    "    plt.figure(figsize=(12,8))\n",
    "    splot=sns.barplot(data=data,x=x,y=y,ci=0)\n",
    "\n",
    "    for p in splot.patches:\n",
    "        splot.annotate(round(p.get_height(),2),#text that you want to write on top\n",
    "                       (p.get_x() + p.get_width() / 2., p.get_height()),# coordinates where text should be there\n",
    "                       ha = 'center', va = 'center',# alignment of the text\n",
    "                       xytext = (0, 10),# distance of text from top of the patch\n",
    "                       textcoords = 'offset points') #do not change and remove it\n",
    "    plt.title(title)\n",
    "    plt.xlabel(xlabel)\n",
    "    plt.ylabel(ylabel)\n",
    "    plt.show()"
   ]
  },
  {
   "cell_type": "markdown",
   "id": "c4db721b",
   "metadata": {},
   "source": [
    "### Clicks"
   ]
  },
  {
   "cell_type": "code",
   "execution_count": 21,
   "id": "edb26f44",
   "metadata": {},
   "outputs": [],
   "source": [
    "click = newdata.loc[newdata['Action'] == 'click']"
   ]
  },
  {
   "cell_type": "code",
   "execution_count": 22,
   "id": "4eb66d61",
   "metadata": {},
   "outputs": [
    {
     "data": {
      "text/html": [
       "<div>\n",
       "<style scoped>\n",
       "    .dataframe tbody tr th:only-of-type {\n",
       "        vertical-align: middle;\n",
       "    }\n",
       "\n",
       "    .dataframe tbody tr th {\n",
       "        vertical-align: top;\n",
       "    }\n",
       "\n",
       "    .dataframe thead th {\n",
       "        text-align: right;\n",
       "    }\n",
       "</style>\n",
       "<table border=\"1\" class=\"dataframe\">\n",
       "  <thead>\n",
       "    <tr style=\"text-align: right;\">\n",
       "      <th></th>\n",
       "      <th>Timestamp</th>\n",
       "      <th>Week_day</th>\n",
       "      <th>Month</th>\n",
       "      <th>Action</th>\n",
       "      <th>count</th>\n",
       "    </tr>\n",
       "  </thead>\n",
       "  <tbody>\n",
       "    <tr>\n",
       "      <th>0</th>\n",
       "      <td>2021-01-01</td>\n",
       "      <td>Friday</td>\n",
       "      <td>January</td>\n",
       "      <td>click</td>\n",
       "      <td>1</td>\n",
       "    </tr>\n",
       "    <tr>\n",
       "      <th>2</th>\n",
       "      <td>2021-01-02</td>\n",
       "      <td>Saturday</td>\n",
       "      <td>January</td>\n",
       "      <td>click</td>\n",
       "      <td>7</td>\n",
       "    </tr>\n",
       "    <tr>\n",
       "      <th>4</th>\n",
       "      <td>2021-01-03</td>\n",
       "      <td>Sunday</td>\n",
       "      <td>January</td>\n",
       "      <td>click</td>\n",
       "      <td>9</td>\n",
       "    </tr>\n",
       "    <tr>\n",
       "      <th>6</th>\n",
       "      <td>2021-01-04</td>\n",
       "      <td>Monday</td>\n",
       "      <td>January</td>\n",
       "      <td>click</td>\n",
       "      <td>23</td>\n",
       "    </tr>\n",
       "    <tr>\n",
       "      <th>9</th>\n",
       "      <td>2021-01-05</td>\n",
       "      <td>Tuesday</td>\n",
       "      <td>January</td>\n",
       "      <td>click</td>\n",
       "      <td>22</td>\n",
       "    </tr>\n",
       "    <tr>\n",
       "      <th>11</th>\n",
       "      <td>2021-01-06</td>\n",
       "      <td>Wednesday</td>\n",
       "      <td>January</td>\n",
       "      <td>click</td>\n",
       "      <td>18</td>\n",
       "    </tr>\n",
       "    <tr>\n",
       "      <th>13</th>\n",
       "      <td>2021-01-07</td>\n",
       "      <td>Thursday</td>\n",
       "      <td>January</td>\n",
       "      <td>click</td>\n",
       "      <td>21</td>\n",
       "    </tr>\n",
       "    <tr>\n",
       "      <th>15</th>\n",
       "      <td>2021-01-08</td>\n",
       "      <td>Friday</td>\n",
       "      <td>January</td>\n",
       "      <td>click</td>\n",
       "      <td>26</td>\n",
       "    </tr>\n",
       "    <tr>\n",
       "      <th>17</th>\n",
       "      <td>2021-01-09</td>\n",
       "      <td>Saturday</td>\n",
       "      <td>January</td>\n",
       "      <td>click</td>\n",
       "      <td>2</td>\n",
       "    </tr>\n",
       "    <tr>\n",
       "      <th>19</th>\n",
       "      <td>2021-01-10</td>\n",
       "      <td>Sunday</td>\n",
       "      <td>January</td>\n",
       "      <td>click</td>\n",
       "      <td>2</td>\n",
       "    </tr>\n",
       "  </tbody>\n",
       "</table>\n",
       "</div>"
      ],
      "text/plain": [
       "     Timestamp   Week_day    Month Action  count\n",
       "0   2021-01-01     Friday  January  click      1\n",
       "2   2021-01-02   Saturday  January  click      7\n",
       "4   2021-01-03     Sunday  January  click      9\n",
       "6   2021-01-04     Monday  January  click     23\n",
       "9   2021-01-05    Tuesday  January  click     22\n",
       "11  2021-01-06  Wednesday  January  click     18\n",
       "13  2021-01-07   Thursday  January  click     21\n",
       "15  2021-01-08     Friday  January  click     26\n",
       "17  2021-01-09   Saturday  January  click      2\n",
       "19  2021-01-10     Sunday  January  click      2"
      ]
     },
     "execution_count": 22,
     "metadata": {},
     "output_type": "execute_result"
    }
   ],
   "source": [
    "click.head(10)"
   ]
  },
  {
   "cell_type": "code",
   "execution_count": 23,
   "id": "30339be3",
   "metadata": {},
   "outputs": [
    {
     "data": {
      "text/html": [
       "<div>\n",
       "<style scoped>\n",
       "    .dataframe tbody tr th:only-of-type {\n",
       "        vertical-align: middle;\n",
       "    }\n",
       "\n",
       "    .dataframe tbody tr th {\n",
       "        vertical-align: top;\n",
       "    }\n",
       "\n",
       "    .dataframe thead th {\n",
       "        text-align: right;\n",
       "    }\n",
       "</style>\n",
       "<table border=\"1\" class=\"dataframe\">\n",
       "  <thead>\n",
       "    <tr style=\"text-align: right;\">\n",
       "      <th></th>\n",
       "      <th>Week_day</th>\n",
       "      <th>count</th>\n",
       "    </tr>\n",
       "  </thead>\n",
       "  <tbody>\n",
       "    <tr>\n",
       "      <th>2</th>\n",
       "      <td>Saturday</td>\n",
       "      <td>446</td>\n",
       "    </tr>\n",
       "    <tr>\n",
       "      <th>3</th>\n",
       "      <td>Sunday</td>\n",
       "      <td>666</td>\n",
       "    </tr>\n",
       "    <tr>\n",
       "      <th>4</th>\n",
       "      <td>Thursday</td>\n",
       "      <td>1091</td>\n",
       "    </tr>\n",
       "    <tr>\n",
       "      <th>6</th>\n",
       "      <td>Wednesday</td>\n",
       "      <td>1190</td>\n",
       "    </tr>\n",
       "    <tr>\n",
       "      <th>0</th>\n",
       "      <td>Friday</td>\n",
       "      <td>1259</td>\n",
       "    </tr>\n",
       "    <tr>\n",
       "      <th>5</th>\n",
       "      <td>Tuesday</td>\n",
       "      <td>1269</td>\n",
       "    </tr>\n",
       "    <tr>\n",
       "      <th>1</th>\n",
       "      <td>Monday</td>\n",
       "      <td>1312</td>\n",
       "    </tr>\n",
       "  </tbody>\n",
       "</table>\n",
       "</div>"
      ],
      "text/plain": [
       "    Week_day  count\n",
       "2   Saturday    446\n",
       "3     Sunday    666\n",
       "4   Thursday   1091\n",
       "6  Wednesday   1190\n",
       "0     Friday   1259\n",
       "5    Tuesday   1269\n",
       "1     Monday   1312"
      ]
     },
     "execution_count": 23,
     "metadata": {},
     "output_type": "execute_result"
    }
   ],
   "source": [
    "Week_day_total=(click.groupby([\"Week_day\"])[[\"count\"]].sum().reset_index().sort_values('count'))\n",
    "Week_day_total"
   ]
  },
  {
   "cell_type": "code",
   "execution_count": 24,
   "id": "0721a354",
   "metadata": {},
   "outputs": [
    {
     "data": {
      "image/png": "[encoded data removed]",
      "text/plain": [
       "<Figure size 864x576 with 1 Axes>"
      ]
     },
     "metadata": {},
     "output_type": "display_data"
    }
   ],
   "source": [
    "plot_barPlot(Week_day_total,\"Week_day\",\"count\",\"Day of the week with the highest clicks\",\"Week day\",\"Count\")"
   ]
  },
  {
   "cell_type": "markdown",
   "id": "f29ba44a",
   "metadata": {},
   "source": [
    "##### From the plot above we can see that Monday has the highest clicks"
   ]
  },
  {
   "cell_type": "markdown",
   "id": "ffa62a73",
   "metadata": {},
   "source": [
    "### Open"
   ]
  },
  {
   "cell_type": "code",
   "execution_count": 25,
   "id": "0822bff2",
   "metadata": {},
   "outputs": [],
   "source": [
    "opens = newdata.loc[newdata['Action'] == 'open']"
   ]
  },
  {
   "cell_type": "code",
   "execution_count": 26,
   "id": "d75bd94e",
   "metadata": {},
   "outputs": [
    {
     "data": {
      "text/html": [
       "<div>\n",
       "<style scoped>\n",
       "    .dataframe tbody tr th:only-of-type {\n",
       "        vertical-align: middle;\n",
       "    }\n",
       "\n",
       "    .dataframe tbody tr th {\n",
       "        vertical-align: top;\n",
       "    }\n",
       "\n",
       "    .dataframe thead th {\n",
       "        text-align: right;\n",
       "    }\n",
       "</style>\n",
       "<table border=\"1\" class=\"dataframe\">\n",
       "  <thead>\n",
       "    <tr style=\"text-align: right;\">\n",
       "      <th></th>\n",
       "      <th>Week_day</th>\n",
       "      <th>count</th>\n",
       "    </tr>\n",
       "  </thead>\n",
       "  <tbody>\n",
       "    <tr>\n",
       "      <th>2</th>\n",
       "      <td>Saturday</td>\n",
       "      <td>6823</td>\n",
       "    </tr>\n",
       "    <tr>\n",
       "      <th>3</th>\n",
       "      <td>Sunday</td>\n",
       "      <td>11857</td>\n",
       "    </tr>\n",
       "    <tr>\n",
       "      <th>6</th>\n",
       "      <td>Wednesday</td>\n",
       "      <td>16731</td>\n",
       "    </tr>\n",
       "    <tr>\n",
       "      <th>4</th>\n",
       "      <td>Thursday</td>\n",
       "      <td>17051</td>\n",
       "    </tr>\n",
       "    <tr>\n",
       "      <th>5</th>\n",
       "      <td>Tuesday</td>\n",
       "      <td>17118</td>\n",
       "    </tr>\n",
       "    <tr>\n",
       "      <th>0</th>\n",
       "      <td>Friday</td>\n",
       "      <td>17122</td>\n",
       "    </tr>\n",
       "    <tr>\n",
       "      <th>1</th>\n",
       "      <td>Monday</td>\n",
       "      <td>18419</td>\n",
       "    </tr>\n",
       "  </tbody>\n",
       "</table>\n",
       "</div>"
      ],
      "text/plain": [
       "    Week_day  count\n",
       "2   Saturday   6823\n",
       "3     Sunday  11857\n",
       "6  Wednesday  16731\n",
       "4   Thursday  17051\n",
       "5    Tuesday  17118\n",
       "0     Friday  17122\n",
       "1     Monday  18419"
      ]
     },
     "execution_count": 26,
     "metadata": {},
     "output_type": "execute_result"
    }
   ],
   "source": [
    "Week_day_total=(opens.groupby([\"Week_day\"])[[\"count\"]].sum().reset_index().sort_values('count'))\n",
    "Week_day_total"
   ]
  },
  {
   "cell_type": "code",
   "execution_count": 27,
   "id": "a6535c2e",
   "metadata": {},
   "outputs": [
    {
     "data": {
      "image/png": "[encoded data removed]",
      "text/plain": [
       "<Figure size 864x576 with 1 Axes>"
      ]
     },
     "metadata": {},
     "output_type": "display_data"
    }
   ],
   "source": [
    "plot_barPlot(Week_day_total,\"Week_day\",\"count\",\"Day of the week with the highest opens\",\"Week day\",\"Count\")"
   ]
  },
  {
   "cell_type": "markdown",
   "id": "ce908f13",
   "metadata": {},
   "source": [
    "#### Monday has the highest opens"
   ]
  },
  {
   "cell_type": "markdown",
   "id": "dd913f83",
   "metadata": {},
   "source": [
    "### Bounce"
   ]
  },
  {
   "cell_type": "code",
   "execution_count": 28,
   "id": "26a2a89f",
   "metadata": {},
   "outputs": [],
   "source": [
    "bounce = newdata.loc[newdata['Action'] == 'bounce']"
   ]
  },
  {
   "cell_type": "code",
   "execution_count": 29,
   "id": "0cfa75ce",
   "metadata": {},
   "outputs": [
    {
     "data": {
      "text/html": [
       "<div>\n",
       "<style scoped>\n",
       "    .dataframe tbody tr th:only-of-type {\n",
       "        vertical-align: middle;\n",
       "    }\n",
       "\n",
       "    .dataframe tbody tr th {\n",
       "        vertical-align: top;\n",
       "    }\n",
       "\n",
       "    .dataframe thead th {\n",
       "        text-align: right;\n",
       "    }\n",
       "</style>\n",
       "<table border=\"1\" class=\"dataframe\">\n",
       "  <thead>\n",
       "    <tr style=\"text-align: right;\">\n",
       "      <th></th>\n",
       "      <th>Timestamp</th>\n",
       "      <th>Week_day</th>\n",
       "      <th>Month</th>\n",
       "      <th>Action</th>\n",
       "      <th>count</th>\n",
       "    </tr>\n",
       "  </thead>\n",
       "  <tbody>\n",
       "    <tr>\n",
       "      <th>8</th>\n",
       "      <td>2021-01-05</td>\n",
       "      <td>Tuesday</td>\n",
       "      <td>January</td>\n",
       "      <td>bounce</td>\n",
       "      <td>1</td>\n",
       "    </tr>\n",
       "    <tr>\n",
       "      <th>51</th>\n",
       "      <td>2021-01-26</td>\n",
       "      <td>Tuesday</td>\n",
       "      <td>January</td>\n",
       "      <td>bounce</td>\n",
       "      <td>4</td>\n",
       "    </tr>\n",
       "    <tr>\n",
       "      <th>56</th>\n",
       "      <td>2021-01-28</td>\n",
       "      <td>Thursday</td>\n",
       "      <td>January</td>\n",
       "      <td>bounce</td>\n",
       "      <td>1</td>\n",
       "    </tr>\n",
       "    <tr>\n",
       "      <th>59</th>\n",
       "      <td>2021-01-29</td>\n",
       "      <td>Friday</td>\n",
       "      <td>January</td>\n",
       "      <td>bounce</td>\n",
       "      <td>1</td>\n",
       "    </tr>\n",
       "    <tr>\n",
       "      <th>72</th>\n",
       "      <td>2021-02-04</td>\n",
       "      <td>Thursday</td>\n",
       "      <td>February</td>\n",
       "      <td>bounce</td>\n",
       "      <td>4</td>\n",
       "    </tr>\n",
       "  </tbody>\n",
       "</table>\n",
       "</div>"
      ],
      "text/plain": [
       "     Timestamp  Week_day     Month  Action  count\n",
       "8   2021-01-05   Tuesday   January  bounce      1\n",
       "51  2021-01-26   Tuesday   January  bounce      4\n",
       "56  2021-01-28  Thursday   January  bounce      1\n",
       "59  2021-01-29    Friday   January  bounce      1\n",
       "72  2021-02-04  Thursday  February  bounce      4"
      ]
     },
     "execution_count": 29,
     "metadata": {},
     "output_type": "execute_result"
    }
   ],
   "source": [
    "bounce.head()"
   ]
  },
  {
   "cell_type": "code",
   "execution_count": 30,
   "id": "5dc7253e",
   "metadata": {},
   "outputs": [
    {
     "data": {
      "text/html": [
       "<div>\n",
       "<style scoped>\n",
       "    .dataframe tbody tr th:only-of-type {\n",
       "        vertical-align: middle;\n",
       "    }\n",
       "\n",
       "    .dataframe tbody tr th {\n",
       "        vertical-align: top;\n",
       "    }\n",
       "\n",
       "    .dataframe thead th {\n",
       "        text-align: right;\n",
       "    }\n",
       "</style>\n",
       "<table border=\"1\" class=\"dataframe\">\n",
       "  <thead>\n",
       "    <tr style=\"text-align: right;\">\n",
       "      <th></th>\n",
       "      <th>Week_day</th>\n",
       "      <th>count</th>\n",
       "    </tr>\n",
       "  </thead>\n",
       "  <tbody>\n",
       "    <tr>\n",
       "      <th>2</th>\n",
       "      <td>Saturday</td>\n",
       "      <td>3</td>\n",
       "    </tr>\n",
       "    <tr>\n",
       "      <th>3</th>\n",
       "      <td>Sunday</td>\n",
       "      <td>7</td>\n",
       "    </tr>\n",
       "    <tr>\n",
       "      <th>0</th>\n",
       "      <td>Friday</td>\n",
       "      <td>18</td>\n",
       "    </tr>\n",
       "    <tr>\n",
       "      <th>6</th>\n",
       "      <td>Wednesday</td>\n",
       "      <td>21</td>\n",
       "    </tr>\n",
       "    <tr>\n",
       "      <th>5</th>\n",
       "      <td>Tuesday</td>\n",
       "      <td>43</td>\n",
       "    </tr>\n",
       "    <tr>\n",
       "      <th>1</th>\n",
       "      <td>Monday</td>\n",
       "      <td>45</td>\n",
       "    </tr>\n",
       "    <tr>\n",
       "      <th>4</th>\n",
       "      <td>Thursday</td>\n",
       "      <td>46</td>\n",
       "    </tr>\n",
       "  </tbody>\n",
       "</table>\n",
       "</div>"
      ],
      "text/plain": [
       "    Week_day  count\n",
       "2   Saturday      3\n",
       "3     Sunday      7\n",
       "0     Friday     18\n",
       "6  Wednesday     21\n",
       "5    Tuesday     43\n",
       "1     Monday     45\n",
       "4   Thursday     46"
      ]
     },
     "execution_count": 30,
     "metadata": {},
     "output_type": "execute_result"
    }
   ],
   "source": [
    "Week_day_total=(bounce.groupby([\"Week_day\"])[[\"count\"]].sum().reset_index().sort_values('count'))\n",
    "Week_day_total"
   ]
  },
  {
   "cell_type": "code",
   "execution_count": 31,
   "id": "8741ae9a",
   "metadata": {},
   "outputs": [
    {
     "data": {
      "image/png": "[encoded data removed]",
      "text/plain": [
       "<Figure size 864x576 with 1 Axes>"
      ]
     },
     "metadata": {},
     "output_type": "display_data"
    }
   ],
   "source": [
    "plot_barPlot(Week_day_total,\"Week_day\",\"count\",\"Day of the week with the highest bounce\",\"Week day\",\"Count\")"
   ]
  },
  {
   "cell_type": "markdown",
   "id": "e067a677",
   "metadata": {},
   "source": [
    "##### Thursday has the highest bounced emails"
   ]
  },
  {
   "cell_type": "markdown",
   "id": "75dca474",
   "metadata": {},
   "source": [
    "## Findings:\n",
    "* Monday has the highest email clicks.\n",
    "* Monday has the highest opens.\n",
    "* Thursday has the highest occurence of bounced emails."
   ]
  },
  {
   "cell_type": "markdown",
   "id": "54eb2c1c",
   "metadata": {},
   "source": [
    "## Further Work:\n",
    "* Consideration can be placed into breaking the analysis further by looking at the day of the week with the highest opens, clicks and bounce per month, as it is very likely that the trends for each month is different.\n",
    "* We can further try to understand the emails bounce patterns and extract the possible causes."
   ]
  }
 ],
 "metadata": {
  "kernelspec": {
   "display_name": "Python 3",
   "language": "python",
   "name": "python3"
  },
  "language_info": {
   "codemirror_mode": {
    "name": "ipython",
    "version": 3
   },
   "file_extension": ".py",
   "mimetype": "text/x-python",
   "name": "python",
   "nbconvert_exporter": "python",
   "pygments_lexer": "ipython3",
   "version": "3.8.8"
  }
 },
 "nbformat": 4,
 "nbformat_minor": 5
}
